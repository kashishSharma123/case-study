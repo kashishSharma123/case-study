{
 "cells": [
  {
   "cell_type": "code",
   "execution_count": 19,
   "metadata": {},
   "outputs": [],
   "source": [
    "import pandas as pd\n",
    "import numpy as np\n",
    "import matplotlib.pyplot as plt\n",
    "import seaborn as sns"
   ]
  },
  {
   "cell_type": "code",
   "execution_count": 20,
   "metadata": {},
   "outputs": [],
   "source": [
    "cancer=pd.read_csv('https://query.data.world/s/xlh353wvypzveoxm7h4u4c6hnucftk',encoding='latin-1')"
   ]
  },
  {
   "cell_type": "code",
   "execution_count": 21,
   "metadata": {},
   "outputs": [
    {
     "data": {
      "text/html": [
       "<div>\n",
       "<style scoped>\n",
       "    .dataframe tbody tr th:only-of-type {\n",
       "        vertical-align: middle;\n",
       "    }\n",
       "\n",
       "    .dataframe tbody tr th {\n",
       "        vertical-align: top;\n",
       "    }\n",
       "\n",
       "    .dataframe thead th {\n",
       "        text-align: right;\n",
       "    }\n",
       "</style>\n",
       "<table border=\"1\" class=\"dataframe\">\n",
       "  <thead>\n",
       "    <tr style=\"text-align: right;\">\n",
       "      <th></th>\n",
       "      <th>avgAnnCount</th>\n",
       "      <th>avgDeathsPerYear</th>\n",
       "      <th>TARGET_deathRate</th>\n",
       "      <th>incidenceRate</th>\n",
       "      <th>medIncome</th>\n",
       "      <th>popEst2015</th>\n",
       "      <th>povertyPercent</th>\n",
       "      <th>studyPerCap</th>\n",
       "      <th>binnedInc</th>\n",
       "      <th>MedianAge</th>\n",
       "      <th>...</th>\n",
       "      <th>PctPrivateCoverageAlone</th>\n",
       "      <th>PctEmpPrivCoverage</th>\n",
       "      <th>PctPublicCoverage</th>\n",
       "      <th>PctPublicCoverageAlone</th>\n",
       "      <th>PctWhite</th>\n",
       "      <th>PctBlack</th>\n",
       "      <th>PctAsian</th>\n",
       "      <th>PctOtherRace</th>\n",
       "      <th>PctMarriedHouseholds</th>\n",
       "      <th>BirthRate</th>\n",
       "    </tr>\n",
       "  </thead>\n",
       "  <tbody>\n",
       "    <tr>\n",
       "      <td>0</td>\n",
       "      <td>1397.0</td>\n",
       "      <td>469</td>\n",
       "      <td>164.9</td>\n",
       "      <td>489.8</td>\n",
       "      <td>61898</td>\n",
       "      <td>260131</td>\n",
       "      <td>11.2</td>\n",
       "      <td>499.748204</td>\n",
       "      <td>(61494.5, 125635]</td>\n",
       "      <td>39.3</td>\n",
       "      <td>...</td>\n",
       "      <td>NaN</td>\n",
       "      <td>41.6</td>\n",
       "      <td>32.9</td>\n",
       "      <td>14.0</td>\n",
       "      <td>81.780529</td>\n",
       "      <td>2.594728</td>\n",
       "      <td>4.821857</td>\n",
       "      <td>1.843479</td>\n",
       "      <td>52.856076</td>\n",
       "      <td>6.118831</td>\n",
       "    </tr>\n",
       "    <tr>\n",
       "      <td>1</td>\n",
       "      <td>173.0</td>\n",
       "      <td>70</td>\n",
       "      <td>161.3</td>\n",
       "      <td>411.6</td>\n",
       "      <td>48127</td>\n",
       "      <td>43269</td>\n",
       "      <td>18.6</td>\n",
       "      <td>23.111234</td>\n",
       "      <td>(48021.6, 51046.4]</td>\n",
       "      <td>33.0</td>\n",
       "      <td>...</td>\n",
       "      <td>53.8</td>\n",
       "      <td>43.6</td>\n",
       "      <td>31.1</td>\n",
       "      <td>15.3</td>\n",
       "      <td>89.228509</td>\n",
       "      <td>0.969102</td>\n",
       "      <td>2.246233</td>\n",
       "      <td>3.741352</td>\n",
       "      <td>45.372500</td>\n",
       "      <td>4.333096</td>\n",
       "    </tr>\n",
       "    <tr>\n",
       "      <td>2</td>\n",
       "      <td>102.0</td>\n",
       "      <td>50</td>\n",
       "      <td>174.7</td>\n",
       "      <td>349.7</td>\n",
       "      <td>49348</td>\n",
       "      <td>21026</td>\n",
       "      <td>14.6</td>\n",
       "      <td>47.560164</td>\n",
       "      <td>(48021.6, 51046.4]</td>\n",
       "      <td>45.0</td>\n",
       "      <td>...</td>\n",
       "      <td>43.5</td>\n",
       "      <td>34.9</td>\n",
       "      <td>42.1</td>\n",
       "      <td>21.1</td>\n",
       "      <td>90.922190</td>\n",
       "      <td>0.739673</td>\n",
       "      <td>0.465898</td>\n",
       "      <td>2.747358</td>\n",
       "      <td>54.444868</td>\n",
       "      <td>3.729488</td>\n",
       "    </tr>\n",
       "    <tr>\n",
       "      <td>3</td>\n",
       "      <td>427.0</td>\n",
       "      <td>202</td>\n",
       "      <td>194.8</td>\n",
       "      <td>430.4</td>\n",
       "      <td>44243</td>\n",
       "      <td>75882</td>\n",
       "      <td>17.1</td>\n",
       "      <td>342.637253</td>\n",
       "      <td>(42724.4, 45201]</td>\n",
       "      <td>42.8</td>\n",
       "      <td>...</td>\n",
       "      <td>40.3</td>\n",
       "      <td>35.0</td>\n",
       "      <td>45.3</td>\n",
       "      <td>25.0</td>\n",
       "      <td>91.744686</td>\n",
       "      <td>0.782626</td>\n",
       "      <td>1.161359</td>\n",
       "      <td>1.362643</td>\n",
       "      <td>51.021514</td>\n",
       "      <td>4.603841</td>\n",
       "    </tr>\n",
       "    <tr>\n",
       "      <td>4</td>\n",
       "      <td>57.0</td>\n",
       "      <td>26</td>\n",
       "      <td>144.4</td>\n",
       "      <td>350.1</td>\n",
       "      <td>49955</td>\n",
       "      <td>10321</td>\n",
       "      <td>12.5</td>\n",
       "      <td>0.000000</td>\n",
       "      <td>(48021.6, 51046.4]</td>\n",
       "      <td>48.3</td>\n",
       "      <td>...</td>\n",
       "      <td>43.9</td>\n",
       "      <td>35.1</td>\n",
       "      <td>44.0</td>\n",
       "      <td>22.7</td>\n",
       "      <td>94.104024</td>\n",
       "      <td>0.270192</td>\n",
       "      <td>0.665830</td>\n",
       "      <td>0.492135</td>\n",
       "      <td>54.027460</td>\n",
       "      <td>6.796657</td>\n",
       "    </tr>\n",
       "  </tbody>\n",
       "</table>\n",
       "<p>5 rows × 34 columns</p>\n",
       "</div>"
      ],
      "text/plain": [
       "   avgAnnCount  avgDeathsPerYear  TARGET_deathRate  incidenceRate  medIncome  \\\n",
       "0       1397.0               469             164.9          489.8      61898   \n",
       "1        173.0                70             161.3          411.6      48127   \n",
       "2        102.0                50             174.7          349.7      49348   \n",
       "3        427.0               202             194.8          430.4      44243   \n",
       "4         57.0                26             144.4          350.1      49955   \n",
       "\n",
       "   popEst2015  povertyPercent  studyPerCap           binnedInc  MedianAge  \\\n",
       "0      260131            11.2   499.748204   (61494.5, 125635]       39.3   \n",
       "1       43269            18.6    23.111234  (48021.6, 51046.4]       33.0   \n",
       "2       21026            14.6    47.560164  (48021.6, 51046.4]       45.0   \n",
       "3       75882            17.1   342.637253    (42724.4, 45201]       42.8   \n",
       "4       10321            12.5     0.000000  (48021.6, 51046.4]       48.3   \n",
       "\n",
       "   ...  PctPrivateCoverageAlone  PctEmpPrivCoverage PctPublicCoverage  \\\n",
       "0  ...                      NaN                41.6              32.9   \n",
       "1  ...                     53.8                43.6              31.1   \n",
       "2  ...                     43.5                34.9              42.1   \n",
       "3  ...                     40.3                35.0              45.3   \n",
       "4  ...                     43.9                35.1              44.0   \n",
       "\n",
       "   PctPublicCoverageAlone   PctWhite  PctBlack  PctAsian  PctOtherRace  \\\n",
       "0                    14.0  81.780529  2.594728  4.821857      1.843479   \n",
       "1                    15.3  89.228509  0.969102  2.246233      3.741352   \n",
       "2                    21.1  90.922190  0.739673  0.465898      2.747358   \n",
       "3                    25.0  91.744686  0.782626  1.161359      1.362643   \n",
       "4                    22.7  94.104024  0.270192  0.665830      0.492135   \n",
       "\n",
       "   PctMarriedHouseholds  BirthRate  \n",
       "0             52.856076   6.118831  \n",
       "1             45.372500   4.333096  \n",
       "2             54.444868   3.729488  \n",
       "3             51.021514   4.603841  \n",
       "4             54.027460   6.796657  \n",
       "\n",
       "[5 rows x 34 columns]"
      ]
     },
     "execution_count": 21,
     "metadata": {},
     "output_type": "execute_result"
    }
   ],
   "source": [
    "cancer.head()"
   ]
  },
  {
   "cell_type": "code",
   "execution_count": 22,
   "metadata": {},
   "outputs": [
    {
     "data": {
      "text/plain": [
       "(3047, 34)"
      ]
     },
     "execution_count": 22,
     "metadata": {},
     "output_type": "execute_result"
    }
   ],
   "source": [
    "cancer.shape"
   ]
  },
  {
   "cell_type": "code",
   "execution_count": 23,
   "metadata": {},
   "outputs": [
    {
     "data": {
      "text/plain": [
       "avgAnnCount                   0\n",
       "avgDeathsPerYear              0\n",
       "TARGET_deathRate              0\n",
       "incidenceRate                 0\n",
       "medIncome                     0\n",
       "popEst2015                    0\n",
       "povertyPercent                0\n",
       "studyPerCap                   0\n",
       "binnedInc                     0\n",
       "MedianAge                     0\n",
       "MedianAgeMale                 0\n",
       "MedianAgeFemale               0\n",
       "Geography                     0\n",
       "AvgHouseholdSize              0\n",
       "PercentMarried                0\n",
       "PctNoHS18_24                  0\n",
       "PctHS18_24                    0\n",
       "PctSomeCol18_24            2285\n",
       "PctBachDeg18_24               0\n",
       "PctHS25_Over                  0\n",
       "PctBachDeg25_Over             0\n",
       "PctEmployed16_Over          152\n",
       "PctUnemployed16_Over          0\n",
       "PctPrivateCoverage            0\n",
       "PctPrivateCoverageAlone     609\n",
       "PctEmpPrivCoverage            0\n",
       "PctPublicCoverage             0\n",
       "PctPublicCoverageAlone        0\n",
       "PctWhite                      0\n",
       "PctBlack                      0\n",
       "PctAsian                      0\n",
       "PctOtherRace                  0\n",
       "PctMarriedHouseholds          0\n",
       "BirthRate                     0\n",
       "dtype: int64"
      ]
     },
     "execution_count": 23,
     "metadata": {},
     "output_type": "execute_result"
    }
   ],
   "source": [
    "cancer.isnull().sum()"
   ]
  },
  {
   "cell_type": "code",
   "execution_count": 24,
   "metadata": {},
   "outputs": [],
   "source": [
    "cancer = cancer.drop(['PctSomeCol18_24','PctPrivateCoverageAlone'],axis=1)"
   ]
  },
  {
   "cell_type": "code",
   "execution_count": 25,
   "metadata": {},
   "outputs": [
    {
     "data": {
      "text/plain": [
       "(3047, 32)"
      ]
     },
     "execution_count": 25,
     "metadata": {},
     "output_type": "execute_result"
    }
   ],
   "source": [
    "cancer.shape"
   ]
  },
  {
   "cell_type": "code",
   "execution_count": 26,
   "metadata": {},
   "outputs": [
    {
     "data": {
      "text/plain": [
       "count    2895.000000\n",
       "mean       54.152642\n",
       "std         8.315064\n",
       "min        17.600000\n",
       "25%        48.600000\n",
       "50%        54.500000\n",
       "75%        60.300000\n",
       "max        80.100000\n",
       "Name: PctEmployed16_Over, dtype: float64"
      ]
     },
     "execution_count": 26,
     "metadata": {},
     "output_type": "execute_result"
    }
   ],
   "source": [
    "cancer['PctEmployed16_Over'].describe()"
   ]
  },
  {
   "cell_type": "code",
   "execution_count": 27,
   "metadata": {},
   "outputs": [],
   "source": [
    "cancer['PctEmployed16_Over'].fillna(54.152642,inplace=True)"
   ]
  },
  {
   "cell_type": "code",
   "execution_count": 28,
   "metadata": {},
   "outputs": [
    {
     "data": {
      "text/plain": [
       "avgAnnCount               0\n",
       "avgDeathsPerYear          0\n",
       "TARGET_deathRate          0\n",
       "incidenceRate             0\n",
       "medIncome                 0\n",
       "popEst2015                0\n",
       "povertyPercent            0\n",
       "studyPerCap               0\n",
       "binnedInc                 0\n",
       "MedianAge                 0\n",
       "MedianAgeMale             0\n",
       "MedianAgeFemale           0\n",
       "Geography                 0\n",
       "AvgHouseholdSize          0\n",
       "PercentMarried            0\n",
       "PctNoHS18_24              0\n",
       "PctHS18_24                0\n",
       "PctBachDeg18_24           0\n",
       "PctHS25_Over              0\n",
       "PctBachDeg25_Over         0\n",
       "PctEmployed16_Over        0\n",
       "PctUnemployed16_Over      0\n",
       "PctPrivateCoverage        0\n",
       "PctEmpPrivCoverage        0\n",
       "PctPublicCoverage         0\n",
       "PctPublicCoverageAlone    0\n",
       "PctWhite                  0\n",
       "PctBlack                  0\n",
       "PctAsian                  0\n",
       "PctOtherRace              0\n",
       "PctMarriedHouseholds      0\n",
       "BirthRate                 0\n",
       "dtype: int64"
      ]
     },
     "execution_count": 28,
     "metadata": {},
     "output_type": "execute_result"
    }
   ],
   "source": [
    "cancer.isnull().sum()\n"
   ]
  },
  {
   "cell_type": "code",
   "execution_count": 29,
   "metadata": {},
   "outputs": [
    {
     "name": "stdout",
     "output_type": "stream",
     "text": [
      "<class 'pandas.core.frame.DataFrame'>\n",
      "RangeIndex: 3047 entries, 0 to 3046\n",
      "Data columns (total 32 columns):\n",
      "avgAnnCount               3047 non-null float64\n",
      "avgDeathsPerYear          3047 non-null int64\n",
      "TARGET_deathRate          3047 non-null float64\n",
      "incidenceRate             3047 non-null float64\n",
      "medIncome                 3047 non-null int64\n",
      "popEst2015                3047 non-null int64\n",
      "povertyPercent            3047 non-null float64\n",
      "studyPerCap               3047 non-null float64\n",
      "binnedInc                 3047 non-null object\n",
      "MedianAge                 3047 non-null float64\n",
      "MedianAgeMale             3047 non-null float64\n",
      "MedianAgeFemale           3047 non-null float64\n",
      "Geography                 3047 non-null object\n",
      "AvgHouseholdSize          3047 non-null float64\n",
      "PercentMarried            3047 non-null float64\n",
      "PctNoHS18_24              3047 non-null float64\n",
      "PctHS18_24                3047 non-null float64\n",
      "PctBachDeg18_24           3047 non-null float64\n",
      "PctHS25_Over              3047 non-null float64\n",
      "PctBachDeg25_Over         3047 non-null float64\n",
      "PctEmployed16_Over        3047 non-null float64\n",
      "PctUnemployed16_Over      3047 non-null float64\n",
      "PctPrivateCoverage        3047 non-null float64\n",
      "PctEmpPrivCoverage        3047 non-null float64\n",
      "PctPublicCoverage         3047 non-null float64\n",
      "PctPublicCoverageAlone    3047 non-null float64\n",
      "PctWhite                  3047 non-null float64\n",
      "PctBlack                  3047 non-null float64\n",
      "PctAsian                  3047 non-null float64\n",
      "PctOtherRace              3047 non-null float64\n",
      "PctMarriedHouseholds      3047 non-null float64\n",
      "BirthRate                 3047 non-null float64\n",
      "dtypes: float64(27), int64(3), object(2)\n",
      "memory usage: 761.9+ KB\n"
     ]
    }
   ],
   "source": [
    "cancer.info()"
   ]
  },
  {
   "cell_type": "code",
   "execution_count": 30,
   "metadata": {},
   "outputs": [
    {
     "data": {
      "text/plain": [
       "3047"
      ]
     },
     "execution_count": 30,
     "metadata": {},
     "output_type": "execute_result"
    }
   ],
   "source": [
    "cancer['Geography'].nunique()"
   ]
  },
  {
   "cell_type": "markdown",
   "metadata": {},
   "source": [
    "since there are 3047 values does not make scense to conver these into dummy variable"
   ]
  },
  {
   "cell_type": "code",
   "execution_count": 31,
   "metadata": {},
   "outputs": [],
   "source": [
    "cancer = cancer.drop(['Geography'],axis=1)"
   ]
  },
  {
   "cell_type": "code",
   "execution_count": 32,
   "metadata": {},
   "outputs": [
    {
     "data": {
      "text/plain": [
       "(3047, 31)"
      ]
     },
     "execution_count": 32,
     "metadata": {},
     "output_type": "execute_result"
    }
   ],
   "source": [
    "cancer.shape"
   ]
  },
  {
   "cell_type": "code",
   "execution_count": 33,
   "metadata": {},
   "outputs": [
    {
     "data": {
      "text/plain": [
       "10"
      ]
     },
     "execution_count": 33,
     "metadata": {},
     "output_type": "execute_result"
    }
   ],
   "source": [
    "cancer['binnedInc'].nunique()"
   ]
  },
  {
   "cell_type": "code",
   "execution_count": 34,
   "metadata": {},
   "outputs": [],
   "source": [
    "blank=pd.get_dummies(cancer['binnedInc'])"
   ]
  },
  {
   "cell_type": "code",
   "execution_count": 35,
   "metadata": {},
   "outputs": [],
   "source": [
    "cancer= pd.concat([cancer, blank], axis = 1)\n"
   ]
  },
  {
   "cell_type": "code",
   "execution_count": 36,
   "metadata": {},
   "outputs": [
    {
     "data": {
      "text/html": [
       "<div>\n",
       "<style scoped>\n",
       "    .dataframe tbody tr th:only-of-type {\n",
       "        vertical-align: middle;\n",
       "    }\n",
       "\n",
       "    .dataframe tbody tr th {\n",
       "        vertical-align: top;\n",
       "    }\n",
       "\n",
       "    .dataframe thead th {\n",
       "        text-align: right;\n",
       "    }\n",
       "</style>\n",
       "<table border=\"1\" class=\"dataframe\">\n",
       "  <thead>\n",
       "    <tr style=\"text-align: right;\">\n",
       "      <th></th>\n",
       "      <th>avgAnnCount</th>\n",
       "      <th>avgDeathsPerYear</th>\n",
       "      <th>TARGET_deathRate</th>\n",
       "      <th>incidenceRate</th>\n",
       "      <th>medIncome</th>\n",
       "      <th>popEst2015</th>\n",
       "      <th>povertyPercent</th>\n",
       "      <th>studyPerCap</th>\n",
       "      <th>binnedInc</th>\n",
       "      <th>MedianAge</th>\n",
       "      <th>...</th>\n",
       "      <th>(34218.1, 37413.8]</th>\n",
       "      <th>(37413.8, 40362.7]</th>\n",
       "      <th>(40362.7, 42724.4]</th>\n",
       "      <th>(42724.4, 45201]</th>\n",
       "      <th>(45201, 48021.6]</th>\n",
       "      <th>(48021.6, 51046.4]</th>\n",
       "      <th>(51046.4, 54545.6]</th>\n",
       "      <th>(54545.6, 61494.5]</th>\n",
       "      <th>(61494.5, 125635]</th>\n",
       "      <th>[22640, 34218.1]</th>\n",
       "    </tr>\n",
       "  </thead>\n",
       "  <tbody>\n",
       "    <tr>\n",
       "      <td>0</td>\n",
       "      <td>1397.0</td>\n",
       "      <td>469</td>\n",
       "      <td>164.9</td>\n",
       "      <td>489.8</td>\n",
       "      <td>61898</td>\n",
       "      <td>260131</td>\n",
       "      <td>11.2</td>\n",
       "      <td>499.748204</td>\n",
       "      <td>(61494.5, 125635]</td>\n",
       "      <td>39.3</td>\n",
       "      <td>...</td>\n",
       "      <td>0</td>\n",
       "      <td>0</td>\n",
       "      <td>0</td>\n",
       "      <td>0</td>\n",
       "      <td>0</td>\n",
       "      <td>0</td>\n",
       "      <td>0</td>\n",
       "      <td>0</td>\n",
       "      <td>1</td>\n",
       "      <td>0</td>\n",
       "    </tr>\n",
       "    <tr>\n",
       "      <td>1</td>\n",
       "      <td>173.0</td>\n",
       "      <td>70</td>\n",
       "      <td>161.3</td>\n",
       "      <td>411.6</td>\n",
       "      <td>48127</td>\n",
       "      <td>43269</td>\n",
       "      <td>18.6</td>\n",
       "      <td>23.111234</td>\n",
       "      <td>(48021.6, 51046.4]</td>\n",
       "      <td>33.0</td>\n",
       "      <td>...</td>\n",
       "      <td>0</td>\n",
       "      <td>0</td>\n",
       "      <td>0</td>\n",
       "      <td>0</td>\n",
       "      <td>0</td>\n",
       "      <td>1</td>\n",
       "      <td>0</td>\n",
       "      <td>0</td>\n",
       "      <td>0</td>\n",
       "      <td>0</td>\n",
       "    </tr>\n",
       "    <tr>\n",
       "      <td>2</td>\n",
       "      <td>102.0</td>\n",
       "      <td>50</td>\n",
       "      <td>174.7</td>\n",
       "      <td>349.7</td>\n",
       "      <td>49348</td>\n",
       "      <td>21026</td>\n",
       "      <td>14.6</td>\n",
       "      <td>47.560164</td>\n",
       "      <td>(48021.6, 51046.4]</td>\n",
       "      <td>45.0</td>\n",
       "      <td>...</td>\n",
       "      <td>0</td>\n",
       "      <td>0</td>\n",
       "      <td>0</td>\n",
       "      <td>0</td>\n",
       "      <td>0</td>\n",
       "      <td>1</td>\n",
       "      <td>0</td>\n",
       "      <td>0</td>\n",
       "      <td>0</td>\n",
       "      <td>0</td>\n",
       "    </tr>\n",
       "    <tr>\n",
       "      <td>3</td>\n",
       "      <td>427.0</td>\n",
       "      <td>202</td>\n",
       "      <td>194.8</td>\n",
       "      <td>430.4</td>\n",
       "      <td>44243</td>\n",
       "      <td>75882</td>\n",
       "      <td>17.1</td>\n",
       "      <td>342.637253</td>\n",
       "      <td>(42724.4, 45201]</td>\n",
       "      <td>42.8</td>\n",
       "      <td>...</td>\n",
       "      <td>0</td>\n",
       "      <td>0</td>\n",
       "      <td>0</td>\n",
       "      <td>1</td>\n",
       "      <td>0</td>\n",
       "      <td>0</td>\n",
       "      <td>0</td>\n",
       "      <td>0</td>\n",
       "      <td>0</td>\n",
       "      <td>0</td>\n",
       "    </tr>\n",
       "    <tr>\n",
       "      <td>4</td>\n",
       "      <td>57.0</td>\n",
       "      <td>26</td>\n",
       "      <td>144.4</td>\n",
       "      <td>350.1</td>\n",
       "      <td>49955</td>\n",
       "      <td>10321</td>\n",
       "      <td>12.5</td>\n",
       "      <td>0.000000</td>\n",
       "      <td>(48021.6, 51046.4]</td>\n",
       "      <td>48.3</td>\n",
       "      <td>...</td>\n",
       "      <td>0</td>\n",
       "      <td>0</td>\n",
       "      <td>0</td>\n",
       "      <td>0</td>\n",
       "      <td>0</td>\n",
       "      <td>1</td>\n",
       "      <td>0</td>\n",
       "      <td>0</td>\n",
       "      <td>0</td>\n",
       "      <td>0</td>\n",
       "    </tr>\n",
       "  </tbody>\n",
       "</table>\n",
       "<p>5 rows × 41 columns</p>\n",
       "</div>"
      ],
      "text/plain": [
       "   avgAnnCount  avgDeathsPerYear  TARGET_deathRate  incidenceRate  medIncome  \\\n",
       "0       1397.0               469             164.9          489.8      61898   \n",
       "1        173.0                70             161.3          411.6      48127   \n",
       "2        102.0                50             174.7          349.7      49348   \n",
       "3        427.0               202             194.8          430.4      44243   \n",
       "4         57.0                26             144.4          350.1      49955   \n",
       "\n",
       "   popEst2015  povertyPercent  studyPerCap           binnedInc  MedianAge  \\\n",
       "0      260131            11.2   499.748204   (61494.5, 125635]       39.3   \n",
       "1       43269            18.6    23.111234  (48021.6, 51046.4]       33.0   \n",
       "2       21026            14.6    47.560164  (48021.6, 51046.4]       45.0   \n",
       "3       75882            17.1   342.637253    (42724.4, 45201]       42.8   \n",
       "4       10321            12.5     0.000000  (48021.6, 51046.4]       48.3   \n",
       "\n",
       "   ...  (34218.1, 37413.8]  (37413.8, 40362.7]  (40362.7, 42724.4]  \\\n",
       "0  ...                   0                   0                   0   \n",
       "1  ...                   0                   0                   0   \n",
       "2  ...                   0                   0                   0   \n",
       "3  ...                   0                   0                   0   \n",
       "4  ...                   0                   0                   0   \n",
       "\n",
       "   (42724.4, 45201]  (45201, 48021.6]  (48021.6, 51046.4]  (51046.4, 54545.6]  \\\n",
       "0                 0                 0                   0                   0   \n",
       "1                 0                 0                   1                   0   \n",
       "2                 0                 0                   1                   0   \n",
       "3                 1                 0                   0                   0   \n",
       "4                 0                 0                   1                   0   \n",
       "\n",
       "   (54545.6, 61494.5]  (61494.5, 125635]  [22640, 34218.1]  \n",
       "0                   0                  1                 0  \n",
       "1                   0                  0                 0  \n",
       "2                   0                  0                 0  \n",
       "3                   0                  0                 0  \n",
       "4                   0                  0                 0  \n",
       "\n",
       "[5 rows x 41 columns]"
      ]
     },
     "execution_count": 36,
     "metadata": {},
     "output_type": "execute_result"
    }
   ],
   "source": [
    "cancer.head()"
   ]
  },
  {
   "cell_type": "code",
   "execution_count": 37,
   "metadata": {},
   "outputs": [],
   "source": [
    "cancer = cancer.drop(['binnedInc'],axis=1)"
   ]
  },
  {
   "cell_type": "code",
   "execution_count": 38,
   "metadata": {},
   "outputs": [
    {
     "data": {
      "text/plain": [
       "(3047, 40)"
      ]
     },
     "execution_count": 38,
     "metadata": {},
     "output_type": "execute_result"
    }
   ],
   "source": [
    "cancer.shape"
   ]
  },
  {
   "cell_type": "code",
   "execution_count": 39,
   "metadata": {},
   "outputs": [],
   "source": [
    "from sklearn.model_selection import train_test_split\n",
    "\n",
    "\n",
    "cancer_train, cancer_test = train_test_split(cancer, train_size = 0.7, test_size = 0.3, random_state = 21)"
   ]
  },
  {
   "cell_type": "code",
   "execution_count": 40,
   "metadata": {},
   "outputs": [],
   "source": [
    "from sklearn.preprocessing import MinMaxScaler\n"
   ]
  },
  {
   "cell_type": "code",
   "execution_count": 41,
   "metadata": {},
   "outputs": [],
   "source": [
    "columns = ['avgAnnCount', 'avgDeathsPerYear', 'TARGET_deathRate', 'incidenceRate',\n",
    "       'medIncome', 'popEst2015', 'povertyPercent', 'studyPerCap', 'MedianAge',\n",
    "       'MedianAgeMale', 'MedianAgeFemale', 'AvgHouseholdSize',\n",
    "       'PercentMarried', 'PctNoHS18_24', 'PctHS18_24', 'PctBachDeg18_24',\n",
    "       'PctHS25_Over', 'PctBachDeg25_Over', 'PctEmployed16_Over',\n",
    "       'PctUnemployed16_Over', 'PctPrivateCoverage', \n",
    "       'PctEmpPrivCoverage', 'PctPublicCoverage', 'PctPublicCoverageAlone',\n",
    "       'PctWhite', 'PctBlack', 'PctAsian', 'PctOtherRace',\n",
    "       'PctMarriedHouseholds', 'BirthRate', '(37413.8, 40362.7]',\n",
    "       '(40362.7, 42724.4]', '(42724.4, 45201]', '(45201, 48021.6]',\n",
    "       '(48021.6, 51046.4]', '(51046.4, 54545.6]', '(54545.6, 61494.5]',\n",
    "       '(61494.5, 125635]', '[22640, 34218.1]']"
   ]
  },
  {
   "cell_type": "code",
   "execution_count": 42,
   "metadata": {},
   "outputs": [
    {
     "name": "stderr",
     "output_type": "stream",
     "text": [
      "C:\\Users\\kashish sharma\\Anaconda3\\lib\\site-packages\\ipykernel_launcher.py:1: SettingWithCopyWarning: \n",
      "A value is trying to be set on a copy of a slice from a DataFrame.\n",
      "Try using .loc[row_indexer,col_indexer] = value instead\n",
      "\n",
      "See the caveats in the documentation: http://pandas.pydata.org/pandas-docs/stable/user_guide/indexing.html#returning-a-view-versus-a-copy\n",
      "  \"\"\"Entry point for launching an IPython kernel.\n",
      "C:\\Users\\kashish sharma\\Anaconda3\\lib\\site-packages\\pandas\\core\\indexing.py:494: SettingWithCopyWarning: \n",
      "A value is trying to be set on a copy of a slice from a DataFrame.\n",
      "Try using .loc[row_indexer,col_indexer] = value instead\n",
      "\n",
      "See the caveats in the documentation: http://pandas.pydata.org/pandas-docs/stable/user_guide/indexing.html#returning-a-view-versus-a-copy\n",
      "  self.obj[item] = s\n",
      "C:\\Users\\kashish sharma\\Anaconda3\\lib\\site-packages\\ipykernel_launcher.py:2: SettingWithCopyWarning: \n",
      "A value is trying to be set on a copy of a slice from a DataFrame.\n",
      "Try using .loc[row_indexer,col_indexer] = value instead\n",
      "\n",
      "See the caveats in the documentation: http://pandas.pydata.org/pandas-docs/stable/user_guide/indexing.html#returning-a-view-versus-a-copy\n",
      "  \n",
      "C:\\Users\\kashish sharma\\Anaconda3\\lib\\site-packages\\pandas\\core\\indexing.py:494: SettingWithCopyWarning: \n",
      "A value is trying to be set on a copy of a slice from a DataFrame.\n",
      "Try using .loc[row_indexer,col_indexer] = value instead\n",
      "\n",
      "See the caveats in the documentation: http://pandas.pydata.org/pandas-docs/stable/user_guide/indexing.html#returning-a-view-versus-a-copy\n",
      "  self.obj[item] = s\n"
     ]
    }
   ],
   "source": [
    "cancer_train[columns] = MinMaxScaler().fit_transform(cancer_train[columns])\n",
    "cancer_test[columns] = MinMaxScaler().fit_transform(cancer_test[columns])"
   ]
  },
  {
   "cell_type": "code",
   "execution_count": 43,
   "metadata": {},
   "outputs": [],
   "source": [
    "train_Y = cancer_train.pop('TARGET_deathRate')\n",
    "train_X = cancer_train\n",
    "test_Y = cancer_test.pop('TARGET_deathRate')\n",
    "test_X = cancer_test"
   ]
  },
  {
   "cell_type": "code",
   "execution_count": 44,
   "metadata": {},
   "outputs": [],
   "source": [
    "from sklearn.feature_selection import RFE\n",
    "from sklearn.linear_model import LinearRegression"
   ]
  },
  {
   "cell_type": "code",
   "execution_count": 45,
   "metadata": {},
   "outputs": [
    {
     "data": {
      "text/plain": [
       "LinearRegression(copy_X=True, fit_intercept=True, n_jobs=None, normalize=False)"
      ]
     },
     "execution_count": 45,
     "metadata": {},
     "output_type": "execute_result"
    }
   ],
   "source": [
    "lm = LinearRegression()\n",
    "lm.fit(train_X, train_Y)"
   ]
  },
  {
   "cell_type": "code",
   "execution_count": 46,
   "metadata": {},
   "outputs": [],
   "source": [
    "rfe = RFE(lm, 10) \n",
    "rfe = rfe.fit(train_X, train_Y)"
   ]
  },
  {
   "cell_type": "code",
   "execution_count": 47,
   "metadata": {},
   "outputs": [
    {
     "data": {
      "text/plain": [
       "[('avgAnnCount', True, 1),\n",
       " ('avgDeathsPerYear', True, 1),\n",
       " ('incidenceRate', True, 1),\n",
       " ('medIncome', False, 12),\n",
       " ('popEst2015', True, 1),\n",
       " ('povertyPercent', False, 17),\n",
       " ('studyPerCap', False, 28),\n",
       " ('MedianAge', False, 24),\n",
       " ('MedianAgeMale', False, 3),\n",
       " ('MedianAgeFemale', False, 16),\n",
       " ('AvgHouseholdSize', False, 25),\n",
       " ('PercentMarried', True, 1),\n",
       " ('PctNoHS18_24', False, 11),\n",
       " ('PctHS18_24', False, 6),\n",
       " ('PctBachDeg18_24', False, 14),\n",
       " ('PctHS25_Over', False, 4),\n",
       " ('PctBachDeg25_Over', True, 1),\n",
       " ('PctEmployed16_Over', False, 2),\n",
       " ('PctUnemployed16_Over', False, 5),\n",
       " ('PctPrivateCoverage', True, 1),\n",
       " ('PctEmpPrivCoverage', True, 1),\n",
       " ('PctPublicCoverage', False, 27),\n",
       " ('PctPublicCoverageAlone', False, 19),\n",
       " ('PctWhite', False, 9),\n",
       " ('PctBlack', False, 10),\n",
       " ('PctAsian', False, 8),\n",
       " ('PctOtherRace', True, 1),\n",
       " ('PctMarriedHouseholds', True, 1),\n",
       " ('BirthRate', False, 7),\n",
       " ('(34218.1, 37413.8]', False, 15),\n",
       " ('(37413.8, 40362.7]', False, 18),\n",
       " ('(40362.7, 42724.4]', False, 29),\n",
       " ('(42724.4, 45201]', False, 30),\n",
       " ('(45201, 48021.6]', False, 26),\n",
       " ('(48021.6, 51046.4]', False, 20),\n",
       " ('(51046.4, 54545.6]', False, 21),\n",
       " ('(54545.6, 61494.5]', False, 23),\n",
       " ('(61494.5, 125635]', False, 22),\n",
       " ('[22640, 34218.1]', False, 13)]"
      ]
     },
     "execution_count": 47,
     "metadata": {},
     "output_type": "execute_result"
    }
   ],
   "source": [
    "list(zip(train_X.columns,rfe.support_,rfe.ranking_))"
   ]
  },
  {
   "cell_type": "code",
   "execution_count": 48,
   "metadata": {},
   "outputs": [
    {
     "data": {
      "text/html": [
       "<div>\n",
       "<style scoped>\n",
       "    .dataframe tbody tr th:only-of-type {\n",
       "        vertical-align: middle;\n",
       "    }\n",
       "\n",
       "    .dataframe tbody tr th {\n",
       "        vertical-align: top;\n",
       "    }\n",
       "\n",
       "    .dataframe thead th {\n",
       "        text-align: right;\n",
       "    }\n",
       "</style>\n",
       "<table border=\"1\" class=\"dataframe\">\n",
       "  <thead>\n",
       "    <tr style=\"text-align: right;\">\n",
       "      <th></th>\n",
       "      <th>avgAnnCount</th>\n",
       "      <th>avgDeathsPerYear</th>\n",
       "      <th>incidenceRate</th>\n",
       "      <th>popEst2015</th>\n",
       "      <th>PercentMarried</th>\n",
       "      <th>PctBachDeg25_Over</th>\n",
       "      <th>PctPrivateCoverage</th>\n",
       "      <th>PctEmpPrivCoverage</th>\n",
       "      <th>PctOtherRace</th>\n",
       "      <th>PctMarriedHouseholds</th>\n",
       "    </tr>\n",
       "  </thead>\n",
       "  <tbody>\n",
       "    <tr>\n",
       "      <td>582</td>\n",
       "      <td>0.001154</td>\n",
       "      <td>0.001356</td>\n",
       "      <td>0.350517</td>\n",
       "      <td>0.000582</td>\n",
       "      <td>0.358650</td>\n",
       "      <td>0.130982</td>\n",
       "      <td>0.240929</td>\n",
       "      <td>0.196809</td>\n",
       "      <td>0.003415</td>\n",
       "      <td>0.302821</td>\n",
       "    </tr>\n",
       "    <tr>\n",
       "      <td>1445</td>\n",
       "      <td>0.002176</td>\n",
       "      <td>0.002570</td>\n",
       "      <td>0.278421</td>\n",
       "      <td>0.001479</td>\n",
       "      <td>0.415612</td>\n",
       "      <td>0.226700</td>\n",
       "      <td>0.512337</td>\n",
       "      <td>0.349291</td>\n",
       "      <td>0.009821</td>\n",
       "      <td>0.485183</td>\n",
       "    </tr>\n",
       "    <tr>\n",
       "      <td>1092</td>\n",
       "      <td>0.000524</td>\n",
       "      <td>0.000500</td>\n",
       "      <td>0.253020</td>\n",
       "      <td>0.000346</td>\n",
       "      <td>0.765823</td>\n",
       "      <td>0.309824</td>\n",
       "      <td>0.595065</td>\n",
       "      <td>0.299645</td>\n",
       "      <td>0.016369</td>\n",
       "      <td>0.637754</td>\n",
       "    </tr>\n",
       "    <tr>\n",
       "      <td>616</td>\n",
       "      <td>0.001049</td>\n",
       "      <td>0.000857</td>\n",
       "      <td>0.348151</td>\n",
       "      <td>0.000843</td>\n",
       "      <td>0.605485</td>\n",
       "      <td>0.309824</td>\n",
       "      <td>0.516691</td>\n",
       "      <td>0.460993</td>\n",
       "      <td>0.029072</td>\n",
       "      <td>0.519709</td>\n",
       "    </tr>\n",
       "    <tr>\n",
       "      <td>2721</td>\n",
       "      <td>0.006816</td>\n",
       "      <td>0.006640</td>\n",
       "      <td>0.286764</td>\n",
       "      <td>0.005628</td>\n",
       "      <td>0.546414</td>\n",
       "      <td>0.302267</td>\n",
       "      <td>0.541364</td>\n",
       "      <td>0.494681</td>\n",
       "      <td>0.013337</td>\n",
       "      <td>0.500759</td>\n",
       "    </tr>\n",
       "  </tbody>\n",
       "</table>\n",
       "</div>"
      ],
      "text/plain": [
       "      avgAnnCount  avgDeathsPerYear  incidenceRate  popEst2015  \\\n",
       "582      0.001154          0.001356       0.350517    0.000582   \n",
       "1445     0.002176          0.002570       0.278421    0.001479   \n",
       "1092     0.000524          0.000500       0.253020    0.000346   \n",
       "616      0.001049          0.000857       0.348151    0.000843   \n",
       "2721     0.006816          0.006640       0.286764    0.005628   \n",
       "\n",
       "      PercentMarried  PctBachDeg25_Over  PctPrivateCoverage  \\\n",
       "582         0.358650           0.130982            0.240929   \n",
       "1445        0.415612           0.226700            0.512337   \n",
       "1092        0.765823           0.309824            0.595065   \n",
       "616         0.605485           0.309824            0.516691   \n",
       "2721        0.546414           0.302267            0.541364   \n",
       "\n",
       "      PctEmpPrivCoverage  PctOtherRace  PctMarriedHouseholds  \n",
       "582             0.196809      0.003415              0.302821  \n",
       "1445            0.349291      0.009821              0.485183  \n",
       "1092            0.299645      0.016369              0.637754  \n",
       "616             0.460993      0.029072              0.519709  \n",
       "2721            0.494681      0.013337              0.500759  "
      ]
     },
     "execution_count": 48,
     "metadata": {},
     "output_type": "execute_result"
    }
   ],
   "source": [
    "col = train_X.columns[rfe.support_]\n",
    "\n",
    "RFE_train_X = train_X[col]\n",
    "RFE_train_X.head()"
   ]
  },
  {
   "cell_type": "code",
   "execution_count": 49,
   "metadata": {},
   "outputs": [
    {
     "name": "stderr",
     "output_type": "stream",
     "text": [
      "C:\\Users\\kashish sharma\\Anaconda3\\lib\\site-packages\\numpy\\core\\fromnumeric.py:2389: FutureWarning: Method .ptp is deprecated and will be removed in a future version. Use numpy.ptp instead.\n",
      "  return ptp(axis=axis, out=out, **kwargs)\n"
     ]
    }
   ],
   "source": [
    "import statsmodels.api as sm\n",
    "\n",
    "RFE_train_X = sm.add_constant(RFE_train_X)\n",
    "\n",
    "lm = sm.OLS(train_Y,RFE_train_X).fit()"
   ]
  },
  {
   "cell_type": "code",
   "execution_count": 50,
   "metadata": {},
   "outputs": [
    {
     "name": "stdout",
     "output_type": "stream",
     "text": [
      "                            OLS Regression Results                            \n",
      "==============================================================================\n",
      "Dep. Variable:       TARGET_deathRate   R-squared:                       0.491\n",
      "Model:                            OLS   Adj. R-squared:                  0.489\n",
      "Method:                 Least Squares   F-statistic:                     204.9\n",
      "Date:                Mon, 17 Aug 2020   Prob (F-statistic):          1.51e-302\n",
      "Time:                        18:52:25   Log-Likelihood:                 2270.0\n",
      "No. Observations:                2132   AIC:                            -4518.\n",
      "Df Residuals:                    2121   BIC:                            -4456.\n",
      "Df Model:                          10                                         \n",
      "Covariance Type:            nonrobust                                         \n",
      "========================================================================================\n",
      "                           coef    std err          t      P>|t|      [0.025      0.975]\n",
      "----------------------------------------------------------------------------------------\n",
      "const                    0.5350      0.013     40.218      0.000       0.509       0.561\n",
      "avgAnnCount             -0.5449      0.149     -3.662      0.000      -0.837      -0.253\n",
      "avgDeathsPerYear         0.9533      0.291      3.281      0.001       0.383       1.523\n",
      "incidenceRate            0.6924      0.030     23.152      0.000       0.634       0.751\n",
      "popEst2015              -0.5326      0.295     -1.808      0.071      -1.110       0.045\n",
      "PercentMarried           0.0357      0.028      1.268      0.205      -0.019       0.091\n",
      "PctBachDeg25_Over       -0.2921      0.019    -15.663      0.000      -0.329      -0.256\n",
      "PctPrivateCoverage      -0.2417      0.027     -9.060      0.000      -0.294      -0.189\n",
      "PctEmpPrivCoverage       0.1003      0.021      4.812      0.000       0.059       0.141\n",
      "PctOtherRace            -0.1829      0.023     -7.909      0.000      -0.228      -0.138\n",
      "PctMarriedHouseholds    -0.1304      0.033     -3.948      0.000      -0.195      -0.066\n",
      "==============================================================================\n",
      "Omnibus:                      101.139   Durbin-Watson:                   1.991\n",
      "Prob(Omnibus):                  0.000   Jarque-Bera (JB):              349.871\n",
      "Skew:                          -0.004   Prob(JB):                     1.06e-76\n",
      "Kurtosis:                       4.985   Cond. No.                         337.\n",
      "==============================================================================\n",
      "\n",
      "Warnings:\n",
      "[1] Standard Errors assume that the covariance matrix of the errors is correctly specified.\n"
     ]
    }
   ],
   "source": [
    "print(lm.summary())"
   ]
  },
  {
   "cell_type": "code",
   "execution_count": 51,
   "metadata": {},
   "outputs": [],
   "source": [
    "RFE_train_X = RFE_train_X.drop('PercentMarried',axis=1)\n"
   ]
  },
  {
   "cell_type": "code",
   "execution_count": 52,
   "metadata": {},
   "outputs": [],
   "source": [
    "from statsmodels.stats.outliers_influence import variance_inflation_factor\n"
   ]
  },
  {
   "cell_type": "code",
   "execution_count": 53,
   "metadata": {},
   "outputs": [
    {
     "name": "stdout",
     "output_type": "stream",
     "text": [
      "               Features     VIF\n",
      "0                 const  53.906\n",
      "2      avgDeathsPerYear  32.126\n",
      "4            popEst2015  27.594\n",
      "1           avgAnnCount   8.876\n",
      "6    PctPrivateCoverage   4.591\n",
      "7    PctEmpPrivCoverage   3.258\n",
      "5     PctBachDeg25_Over   1.963\n",
      "9  PctMarriedHouseholds   1.471\n",
      "3         incidenceRate   1.180\n",
      "8          PctOtherRace   1.176\n"
     ]
    }
   ],
   "source": [
    "VIF = pd.DataFrame()\n",
    "VIF['Features'] = RFE_train_X.columns\n",
    "VIF['VIF'] = [variance_inflation_factor(RFE_train_X.values, i) for i in range(RFE_train_X.shape[1])]\n",
    "VIF['VIF'] = round(VIF['VIF'], 3)\n",
    "VIF = VIF.sort_values(by = \"VIF\", ascending = False)\n",
    "print(VIF)"
   ]
  },
  {
   "cell_type": "code",
   "execution_count": 54,
   "metadata": {},
   "outputs": [],
   "source": [
    "RFE_train_X = RFE_train_X.drop('avgDeathsPerYear',axis=1)\n"
   ]
  },
  {
   "cell_type": "code",
   "execution_count": 55,
   "metadata": {},
   "outputs": [],
   "source": [
    "lm = sm.OLS(train_Y,RFE_train_X).fit()"
   ]
  },
  {
   "cell_type": "code",
   "execution_count": 56,
   "metadata": {},
   "outputs": [
    {
     "name": "stdout",
     "output_type": "stream",
     "text": [
      "                            OLS Regression Results                            \n",
      "==============================================================================\n",
      "Dep. Variable:       TARGET_deathRate   R-squared:                       0.488\n",
      "Model:                            OLS   Adj. R-squared:                  0.486\n",
      "Method:                 Least Squares   F-statistic:                     253.3\n",
      "Date:                Mon, 17 Aug 2020   Prob (F-statistic):          2.80e-302\n",
      "Time:                        18:53:15   Log-Likelihood:                 2263.8\n",
      "No. Observations:                2132   AIC:                            -4510.\n",
      "Df Residuals:                    2123   BIC:                            -4459.\n",
      "Df Model:                           8                                         \n",
      "Covariance Type:            nonrobust                                         \n",
      "========================================================================================\n",
      "                           coef    std err          t      P>|t|      [0.025      0.975]\n",
      "----------------------------------------------------------------------------------------\n",
      "const                    0.5390      0.013     40.581      0.000       0.513       0.565\n",
      "avgAnnCount             -0.3374      0.137     -2.466      0.014      -0.606      -0.069\n",
      "incidenceRate            0.7028      0.030     23.566      0.000       0.644       0.761\n",
      "popEst2015               0.2656      0.155      1.716      0.086      -0.038       0.569\n",
      "PctBachDeg25_Over       -0.2925      0.019    -15.656      0.000      -0.329      -0.256\n",
      "PctPrivateCoverage      -0.2326      0.025     -9.271      0.000      -0.282      -0.183\n",
      "PctEmpPrivCoverage       0.0927      0.019      4.778      0.000       0.055       0.131\n",
      "PctOtherRace            -0.1899      0.023     -8.222      0.000      -0.235      -0.145\n",
      "PctMarriedHouseholds    -0.1050      0.018     -5.929      0.000      -0.140      -0.070\n",
      "==============================================================================\n",
      "Omnibus:                      103.285   Durbin-Watson:                   1.986\n",
      "Prob(Omnibus):                  0.000   Jarque-Bera (JB):              357.041\n",
      "Skew:                          -0.058   Prob(JB):                     2.95e-78\n",
      "Kurtosis:                       5.001   Cond. No.                         158.\n",
      "==============================================================================\n",
      "\n",
      "Warnings:\n",
      "[1] Standard Errors assume that the covariance matrix of the errors is correctly specified.\n"
     ]
    }
   ],
   "source": [
    "print(lm.summary())"
   ]
  },
  {
   "cell_type": "code",
   "execution_count": 57,
   "metadata": {},
   "outputs": [],
   "source": [
    "RFE_train_X = RFE_train_X.drop('popEst2015',axis=1)\n"
   ]
  },
  {
   "cell_type": "code",
   "execution_count": 58,
   "metadata": {},
   "outputs": [
    {
     "name": "stdout",
     "output_type": "stream",
     "text": [
      "               Features     VIF\n",
      "0                 const  52.621\n",
      "4    PctPrivateCoverage   4.368\n",
      "5    PctEmpPrivCoverage   3.199\n",
      "3     PctBachDeg25_Over   1.935\n",
      "7  PctMarriedHouseholds   1.431\n",
      "1           avgAnnCount   1.211\n",
      "6          PctOtherRace   1.169\n",
      "2         incidenceRate   1.158\n"
     ]
    }
   ],
   "source": [
    "VIF = pd.DataFrame()\n",
    "VIF['Features'] = RFE_train_X.columns\n",
    "VIF['VIF'] = [variance_inflation_factor(RFE_train_X.values, i) for i in range(RFE_train_X.shape[1])]\n",
    "VIF['VIF'] = round(VIF['VIF'], 3)\n",
    "VIF = VIF.sort_values(by = \"VIF\", ascending = False)\n",
    "print(VIF)"
   ]
  },
  {
   "cell_type": "code",
   "execution_count": 60,
   "metadata": {},
   "outputs": [],
   "source": [
    "lm = sm.OLS(train_Y,RFE_train_X).fit()"
   ]
  },
  {
   "cell_type": "code",
   "execution_count": 61,
   "metadata": {},
   "outputs": [
    {
     "name": "stdout",
     "output_type": "stream",
     "text": [
      "                            OLS Regression Results                            \n",
      "==============================================================================\n",
      "Dep. Variable:       TARGET_deathRate   R-squared:                       0.488\n",
      "Model:                            OLS   Adj. R-squared:                  0.486\n",
      "Method:                 Least Squares   F-statistic:                     288.8\n",
      "Date:                Mon, 17 Aug 2020   Prob (F-statistic):          6.89e-303\n",
      "Time:                        18:55:27   Log-Likelihood:                 2262.3\n",
      "No. Observations:                2132   AIC:                            -4509.\n",
      "Df Residuals:                    2124   BIC:                            -4463.\n",
      "Df Model:                           7                                         \n",
      "Covariance Type:            nonrobust                                         \n",
      "========================================================================================\n",
      "                           coef    std err          t      P>|t|      [0.025      0.975]\n",
      "----------------------------------------------------------------------------------------\n",
      "const                    0.5419      0.013     41.113      0.000       0.516       0.568\n",
      "avgAnnCount             -0.1222      0.055     -2.229      0.026      -0.230      -0.015\n",
      "incidenceRate            0.6982      0.030     23.496      0.000       0.640       0.756\n",
      "PctBachDeg25_Over       -0.2887      0.019    -15.556      0.000      -0.325      -0.252\n",
      "PctPrivateCoverage      -0.2420      0.024     -9.880      0.000      -0.290      -0.194\n",
      "PctEmpPrivCoverage       0.0971      0.019      5.044      0.000       0.059       0.135\n",
      "PctOtherRace            -0.1886      0.023     -8.168      0.000      -0.234      -0.143\n",
      "PctMarriedHouseholds    -0.1046      0.018     -5.903      0.000      -0.139      -0.070\n",
      "==============================================================================\n",
      "Omnibus:                      100.614   Durbin-Watson:                   1.989\n",
      "Prob(Omnibus):                  0.000   Jarque-Bera (JB):              336.898\n",
      "Skew:                          -0.073   Prob(JB):                     6.98e-74\n",
      "Kurtosis:                       4.942   Cond. No.                         43.4\n",
      "==============================================================================\n",
      "\n",
      "Warnings:\n",
      "[1] Standard Errors assume that the covariance matrix of the errors is correctly specified.\n"
     ]
    }
   ],
   "source": [
    "print(lm.summary())"
   ]
  },
  {
   "cell_type": "code",
   "execution_count": 62,
   "metadata": {},
   "outputs": [
    {
     "name": "stdout",
     "output_type": "stream",
     "text": [
      "               Features     VIF\n",
      "0                 const  52.621\n",
      "4    PctPrivateCoverage   4.368\n",
      "5    PctEmpPrivCoverage   3.199\n",
      "3     PctBachDeg25_Over   1.935\n",
      "7  PctMarriedHouseholds   1.431\n",
      "1           avgAnnCount   1.211\n",
      "6          PctOtherRace   1.169\n",
      "2         incidenceRate   1.158\n"
     ]
    }
   ],
   "source": [
    "VIF = pd.DataFrame()\n",
    "VIF['Features'] = RFE_train_X.columns\n",
    "VIF['VIF'] = [variance_inflation_factor(RFE_train_X.values, i) for i in range(RFE_train_X.shape[1])]\n",
    "VIF['VIF'] = round(VIF['VIF'], 3)\n",
    "VIF = VIF.sort_values(by = \"VIF\", ascending = False)\n",
    "print(VIF)"
   ]
  },
  {
   "cell_type": "markdown",
   "metadata": {},
   "source": [
    "adjusted r square value is 0.486"
   ]
  },
  {
   "cell_type": "code",
   "execution_count": 63,
   "metadata": {},
   "outputs": [],
   "source": [
    "\n",
    "RFE_test_X = test_X[col]\n",
    "train_Y_pred = lm.predict(RFE_train_X)\n",
    "\n",
    "\n"
   ]
  },
  {
   "cell_type": "code",
   "execution_count": 64,
   "metadata": {},
   "outputs": [
    {
     "data": {
      "text/plain": [
       "Text(0, 0.5, 'difference')"
      ]
     },
     "execution_count": 64,
     "metadata": {},
     "output_type": "execute_result"
    },
    {
     "data": {
      "image/png": "[encoded data removed]",
      "text/plain": [
       "<Figure size 432x288 with 1 Axes>"
      ]
     },
     "metadata": {
      "needs_background": "light"
     },
     "output_type": "display_data"
    }
   ],
   "source": [
    "fig = plt.figure()\n",
    "sns.distplot((train_Y - train_Y_pred), bins = 30)\n",
    "fig.suptitle('Error Terms', fontsize = 30)\n",
    "plt.xlabel('Errors', fontsize = 20)\n",
    "plt.ylabel('difference', fontsize = 20)\n"
   ]
  },
  {
   "cell_type": "code",
   "execution_count": 65,
   "metadata": {},
   "outputs": [
    {
     "ename": "KeyError",
     "evalue": "\"['const'] not in index\"",
     "output_type": "error",
     "traceback": [
      "\u001b[1;31m---------------------------------------------------------------------------\u001b[0m",
      "\u001b[1;31mKeyError\u001b[0m                                  Traceback (most recent call last)",
      "\u001b[1;32m<ipython-input-65-8492d9b388ff>\u001b[0m in \u001b[0;36m<module>\u001b[1;34m\u001b[0m\n\u001b[1;32m----> 1\u001b[1;33m \u001b[0mtest_X\u001b[0m \u001b[1;33m=\u001b[0m \u001b[0mtest_X\u001b[0m\u001b[1;33m[\u001b[0m\u001b[0mRFE_train_X\u001b[0m\u001b[1;33m.\u001b[0m\u001b[0mcolumns\u001b[0m\u001b[1;33m]\u001b[0m\u001b[1;33m\u001b[0m\u001b[1;33m\u001b[0m\u001b[0m\n\u001b[0m\u001b[0;32m      2\u001b[0m \u001b[0mplt\u001b[0m\u001b[1;33m.\u001b[0m\u001b[0mscatter\u001b[0m\u001b[1;33m(\u001b[0m\u001b[0mtest_Y\u001b[0m\u001b[1;33m,\u001b[0m\u001b[0mtest_Y_pred\u001b[0m\u001b[1;33m)\u001b[0m\u001b[1;33m\u001b[0m\u001b[1;33m\u001b[0m\u001b[0m\n\u001b[0;32m      3\u001b[0m \u001b[0mplt\u001b[0m\u001b[1;33m.\u001b[0m\u001b[0mtitle\u001b[0m\u001b[1;33m(\u001b[0m\u001b[1;34m'test_y Vs test_y_pred'\u001b[0m\u001b[1;33m,\u001b[0m \u001b[0mfontsize\u001b[0m\u001b[1;33m=\u001b[0m\u001b[1;36m20\u001b[0m\u001b[1;33m)\u001b[0m\u001b[1;33m\u001b[0m\u001b[1;33m\u001b[0m\u001b[0m\n\u001b[0;32m      4\u001b[0m \u001b[0mplt\u001b[0m\u001b[1;33m.\u001b[0m\u001b[0mxlabel\u001b[0m\u001b[1;33m(\u001b[0m\u001b[1;34m'test_Y'\u001b[0m\u001b[1;33m,\u001b[0m \u001b[0mfontsize\u001b[0m\u001b[1;33m=\u001b[0m\u001b[1;36m20\u001b[0m\u001b[1;33m)\u001b[0m\u001b[1;33m\u001b[0m\u001b[1;33m\u001b[0m\u001b[0m\n\u001b[0;32m      5\u001b[0m \u001b[0mplt\u001b[0m\u001b[1;33m.\u001b[0m\u001b[0mylabel\u001b[0m\u001b[1;33m(\u001b[0m\u001b[1;34m'test_Y_pred'\u001b[0m\u001b[1;33m,\u001b[0m \u001b[0mfontsize\u001b[0m\u001b[1;33m=\u001b[0m\u001b[1;36m20\u001b[0m\u001b[1;33m)\u001b[0m\u001b[1;33m\u001b[0m\u001b[1;33m\u001b[0m\u001b[0m\n",
      "\u001b[1;32m~\\Anaconda3\\lib\\site-packages\\pandas\\core\\frame.py\u001b[0m in \u001b[0;36m__getitem__\u001b[1;34m(self, key)\u001b[0m\n\u001b[0;32m   2984\u001b[0m             \u001b[1;32mif\u001b[0m \u001b[0mis_iterator\u001b[0m\u001b[1;33m(\u001b[0m\u001b[0mkey\u001b[0m\u001b[1;33m)\u001b[0m\u001b[1;33m:\u001b[0m\u001b[1;33m\u001b[0m\u001b[1;33m\u001b[0m\u001b[0m\n\u001b[0;32m   2985\u001b[0m                 \u001b[0mkey\u001b[0m \u001b[1;33m=\u001b[0m \u001b[0mlist\u001b[0m\u001b[1;33m(\u001b[0m\u001b[0mkey\u001b[0m\u001b[1;33m)\u001b[0m\u001b[1;33m\u001b[0m\u001b[1;33m\u001b[0m\u001b[0m\n\u001b[1;32m-> 2986\u001b[1;33m             \u001b[0mindexer\u001b[0m \u001b[1;33m=\u001b[0m \u001b[0mself\u001b[0m\u001b[1;33m.\u001b[0m\u001b[0mloc\u001b[0m\u001b[1;33m.\u001b[0m\u001b[0m_convert_to_indexer\u001b[0m\u001b[1;33m(\u001b[0m\u001b[0mkey\u001b[0m\u001b[1;33m,\u001b[0m \u001b[0maxis\u001b[0m\u001b[1;33m=\u001b[0m\u001b[1;36m1\u001b[0m\u001b[1;33m,\u001b[0m \u001b[0mraise_missing\u001b[0m\u001b[1;33m=\u001b[0m\u001b[1;32mTrue\u001b[0m\u001b[1;33m)\u001b[0m\u001b[1;33m\u001b[0m\u001b[1;33m\u001b[0m\u001b[0m\n\u001b[0m\u001b[0;32m   2987\u001b[0m \u001b[1;33m\u001b[0m\u001b[0m\n\u001b[0;32m   2988\u001b[0m         \u001b[1;31m# take() does not accept boolean indexers\u001b[0m\u001b[1;33m\u001b[0m\u001b[1;33m\u001b[0m\u001b[1;33m\u001b[0m\u001b[0m\n",
      "\u001b[1;32m~\\Anaconda3\\lib\\site-packages\\pandas\\core\\indexing.py\u001b[0m in \u001b[0;36m_convert_to_indexer\u001b[1;34m(self, obj, axis, is_setter, raise_missing)\u001b[0m\n\u001b[0;32m   1283\u001b[0m                 \u001b[1;31m# When setting, missing keys are not allowed, even with .loc:\u001b[0m\u001b[1;33m\u001b[0m\u001b[1;33m\u001b[0m\u001b[1;33m\u001b[0m\u001b[0m\n\u001b[0;32m   1284\u001b[0m                 \u001b[0mkwargs\u001b[0m \u001b[1;33m=\u001b[0m \u001b[1;33m{\u001b[0m\u001b[1;34m\"raise_missing\"\u001b[0m\u001b[1;33m:\u001b[0m \u001b[1;32mTrue\u001b[0m \u001b[1;32mif\u001b[0m \u001b[0mis_setter\u001b[0m \u001b[1;32melse\u001b[0m \u001b[0mraise_missing\u001b[0m\u001b[1;33m}\u001b[0m\u001b[1;33m\u001b[0m\u001b[1;33m\u001b[0m\u001b[0m\n\u001b[1;32m-> 1285\u001b[1;33m                 \u001b[1;32mreturn\u001b[0m \u001b[0mself\u001b[0m\u001b[1;33m.\u001b[0m\u001b[0m_get_listlike_indexer\u001b[0m\u001b[1;33m(\u001b[0m\u001b[0mobj\u001b[0m\u001b[1;33m,\u001b[0m \u001b[0maxis\u001b[0m\u001b[1;33m,\u001b[0m \u001b[1;33m**\u001b[0m\u001b[0mkwargs\u001b[0m\u001b[1;33m)\u001b[0m\u001b[1;33m[\u001b[0m\u001b[1;36m1\u001b[0m\u001b[1;33m]\u001b[0m\u001b[1;33m\u001b[0m\u001b[1;33m\u001b[0m\u001b[0m\n\u001b[0m\u001b[0;32m   1286\u001b[0m         \u001b[1;32melse\u001b[0m\u001b[1;33m:\u001b[0m\u001b[1;33m\u001b[0m\u001b[1;33m\u001b[0m\u001b[0m\n\u001b[0;32m   1287\u001b[0m             \u001b[1;32mtry\u001b[0m\u001b[1;33m:\u001b[0m\u001b[1;33m\u001b[0m\u001b[1;33m\u001b[0m\u001b[0m\n",
      "\u001b[1;32m~\\Anaconda3\\lib\\site-packages\\pandas\\core\\indexing.py\u001b[0m in \u001b[0;36m_get_listlike_indexer\u001b[1;34m(self, key, axis, raise_missing)\u001b[0m\n\u001b[0;32m   1090\u001b[0m \u001b[1;33m\u001b[0m\u001b[0m\n\u001b[0;32m   1091\u001b[0m         self._validate_read_indexer(\n\u001b[1;32m-> 1092\u001b[1;33m             \u001b[0mkeyarr\u001b[0m\u001b[1;33m,\u001b[0m \u001b[0mindexer\u001b[0m\u001b[1;33m,\u001b[0m \u001b[0mo\u001b[0m\u001b[1;33m.\u001b[0m\u001b[0m_get_axis_number\u001b[0m\u001b[1;33m(\u001b[0m\u001b[0maxis\u001b[0m\u001b[1;33m)\u001b[0m\u001b[1;33m,\u001b[0m \u001b[0mraise_missing\u001b[0m\u001b[1;33m=\u001b[0m\u001b[0mraise_missing\u001b[0m\u001b[1;33m\u001b[0m\u001b[1;33m\u001b[0m\u001b[0m\n\u001b[0m\u001b[0;32m   1093\u001b[0m         )\n\u001b[0;32m   1094\u001b[0m         \u001b[1;32mreturn\u001b[0m \u001b[0mkeyarr\u001b[0m\u001b[1;33m,\u001b[0m \u001b[0mindexer\u001b[0m\u001b[1;33m\u001b[0m\u001b[1;33m\u001b[0m\u001b[0m\n",
      "\u001b[1;32m~\\Anaconda3\\lib\\site-packages\\pandas\\core\\indexing.py\u001b[0m in \u001b[0;36m_validate_read_indexer\u001b[1;34m(self, key, indexer, axis, raise_missing)\u001b[0m\n\u001b[0;32m   1183\u001b[0m             \u001b[1;32mif\u001b[0m \u001b[1;32mnot\u001b[0m \u001b[1;33m(\u001b[0m\u001b[0mself\u001b[0m\u001b[1;33m.\u001b[0m\u001b[0mname\u001b[0m \u001b[1;33m==\u001b[0m \u001b[1;34m\"loc\"\u001b[0m \u001b[1;32mand\u001b[0m \u001b[1;32mnot\u001b[0m \u001b[0mraise_missing\u001b[0m\u001b[1;33m)\u001b[0m\u001b[1;33m:\u001b[0m\u001b[1;33m\u001b[0m\u001b[1;33m\u001b[0m\u001b[0m\n\u001b[0;32m   1184\u001b[0m                 \u001b[0mnot_found\u001b[0m \u001b[1;33m=\u001b[0m \u001b[0mlist\u001b[0m\u001b[1;33m(\u001b[0m\u001b[0mset\u001b[0m\u001b[1;33m(\u001b[0m\u001b[0mkey\u001b[0m\u001b[1;33m)\u001b[0m \u001b[1;33m-\u001b[0m \u001b[0mset\u001b[0m\u001b[1;33m(\u001b[0m\u001b[0max\u001b[0m\u001b[1;33m)\u001b[0m\u001b[1;33m)\u001b[0m\u001b[1;33m\u001b[0m\u001b[1;33m\u001b[0m\u001b[0m\n\u001b[1;32m-> 1185\u001b[1;33m                 \u001b[1;32mraise\u001b[0m \u001b[0mKeyError\u001b[0m\u001b[1;33m(\u001b[0m\u001b[1;34m\"{} not in index\"\u001b[0m\u001b[1;33m.\u001b[0m\u001b[0mformat\u001b[0m\u001b[1;33m(\u001b[0m\u001b[0mnot_found\u001b[0m\u001b[1;33m)\u001b[0m\u001b[1;33m)\u001b[0m\u001b[1;33m\u001b[0m\u001b[1;33m\u001b[0m\u001b[0m\n\u001b[0m\u001b[0;32m   1186\u001b[0m \u001b[1;33m\u001b[0m\u001b[0m\n\u001b[0;32m   1187\u001b[0m             \u001b[1;31m# we skip the warning on Categorical/Interval\u001b[0m\u001b[1;33m\u001b[0m\u001b[1;33m\u001b[0m\u001b[1;33m\u001b[0m\u001b[0m\n",
      "\u001b[1;31mKeyError\u001b[0m: \"['const'] not in index\""
     ]
    }
   ],
   "source": [
    "test_X = test_X[RFE_train_X.columns]\n",
    "plt.scatter(test_Y,test_Y_pred)\n",
    "plt.title('test_y Vs test_y_pred', fontsize=20)\n",
    "plt.xlabel('test_Y', fontsize=20)\n",
    "plt.ylabel('test_Y_pred', fontsize=20)"
   ]
  },
  {
   "cell_type": "code",
   "execution_count": null,
   "metadata": {},
   "outputs": [],
   "source": []
  },
  {
   "cell_type": "code",
   "execution_count": null,
   "metadata": {},
   "outputs": [],
   "source": []
  }
 ],
 "metadata": {
  "kernelspec": {
   "display_name": "Python 3",
   "language": "python",
   "name": "python3"
  },
  "language_info": {
   "codemirror_mode": {
    "name": "ipython",
    "version": 3
   },
   "file_extension": ".py",
   "mimetype": "text/x-python",
   "name": "python",
   "nbconvert_exporter": "python",
   "pygments_lexer": "ipython3",
   "version": "3.7.4"
  }
 },
 "nbformat": 4,
 "nbformat_minor": 2
}
